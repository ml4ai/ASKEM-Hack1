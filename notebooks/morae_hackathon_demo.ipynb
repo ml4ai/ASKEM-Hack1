{
 "cells": [
  {
   "cell_type": "code",
   "execution_count": null,
   "metadata": {},
   "outputs": [],
   "source": [
    "# Set the base URL\n",
    "# NOTE: You do need to have the docker container from the SKEMA repo running as well: https://github.com/ml4ai/skema \n",
    "BASE_URL=\"http://localhost:8080\""
   ]
  },
  {
   "cell_type": "code",
   "execution_count": null,
   "metadata": {},
   "outputs": [],
   "source": [
    "import json\n",
    "from requests import get, put, post, delete"
   ]
  },
  {
   "cell_type": "code",
   "execution_count": null,
   "metadata": {},
   "outputs": [],
   "source": [
    "get(f\"{BASE_URL}/ping\").text"
   ]
  },
  {
   "cell_type": "code",
   "execution_count": null,
   "metadata": {},
   "outputs": [],
   "source": [
    "with open('aligned_SIDATHE-V.json') as f:\n",
    "    r = post(f\"{BASE_URL}/models\", json=json.load(f))\n",
    "    MODEL_ID = r.json()\n",
    "    print(f\"Model ID: {MODEL_ID}\")"
   ]
  },
  {
   "cell_type": "code",
   "execution_count": null,
   "metadata": {},
   "outputs": [],
   "source": [
    "opos = get(f\"{BASE_URL}/models/{MODEL_ID}/named_opos\").json()\n",
    "trimmed_opos = []\n",
    "for ent in opos: \n",
    "    trimmed_opos.append(ent.replace(\"d\", \"\").replace(\"t\", \"\"))\n",
    "print(trimmed_opos)"
   ]
  },
  {
   "cell_type": "code",
   "execution_count": null,
   "metadata": {},
   "outputs": [],
   "source": [
    "opis = get(f\"{BASE_URL}/models/{MODEL_ID}/named_opis\").json()\n",
    "print(opis)"
   ]
  },
  {
   "cell_type": "code",
   "execution_count": null,
   "metadata": {},
   "outputs": [],
   "source": [
    "import acsets, petris\n",
    "\n",
    "sir = petris.Petri()\n",
    "sir.add_species(len(trimmed_opos))\n",
    "trans = petris.Transition\n",
    "sir.add_parts(trans, len(opis))\n",
    "\n",
    "i=0\n",
    "for i, tran in enumerate(opis): \n",
    "    sir.set_subpart(i, petris.attr_tname, opis[i])\n",
    "    sir.set_subpart(i, petris.attr_tuid, i)\n",
    "\n",
    "j=0\n",
    "for j, spec in enumerate(trimmed_opos): \n",
    "    sir.set_subpart(j, petris.attr_sname, trimmed_opos[j])\n",
    "    sir.set_subpart(j, petris.attr_suid, i+j)\n",
    "\n",
    "\n",
    "serialized = sir.write_json()\n",
    "\n",
    "print(serialized)"
   ]
  }
 ],
 "metadata": {
  "kernelspec": {
   "display_name": "Python 3 (ipykernel)",
   "language": "python",
   "name": "python3"
  },
  "language_info": {
   "codemirror_mode": {
    "name": "ipython",
    "version": 3
   },
   "file_extension": ".py",
   "mimetype": "text/x-python",
   "name": "python",
   "nbconvert_exporter": "python",
   "pygments_lexer": "ipython3",
   "version": "3.9.14"
  },
  "orig_nbformat": 4,
  "vscode": {
   "interpreter": {
    "hash": "31f2aee4e71d21fbe5cf8b01ff0e069b9275f58929596ceb00d14d90e3e16cd6"
   }
  }
 },
 "nbformat": 4,
 "nbformat_minor": 2
}
