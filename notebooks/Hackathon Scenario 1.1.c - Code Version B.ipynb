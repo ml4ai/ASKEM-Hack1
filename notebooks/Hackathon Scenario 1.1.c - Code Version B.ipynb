{
 "cells": [
  {
   "cell_type": "code",
   "execution_count": null,
   "id": "127333a7",
   "metadata": {
    "ExecuteTime": {
     "end_time": "2022-12-29T11:17:03.142460Z",
     "start_time": "2022-12-29T11:17:00.886961Z"
    }
   },
   "outputs": [],
   "source": [
    "# import statements\n",
    "from scipy.integrate import odeint\n",
    "import numpy as np\n",
    "import matplotlib.pyplot as plt\n",
    "# %matplotlib inline "
   ]
  },
  {
   "attachments": {},
   "cell_type": "markdown",
   "id": "1153b65f",
   "metadata": {},
   "source": [
    "## Define Functions"
   ]
  },
  {
   "cell_type": "code",
   "execution_count": null,
   "id": "3d7e40f5",
   "metadata": {
    "ExecuteTime": {
     "end_time": "2022-12-29T11:17:03.158556Z",
     "start_time": "2022-12-29T11:17:03.145140Z"
    }
   },
   "outputs": [],
   "source": [
    "# define SEIRD_model\n",
    "def SEIRD_model(y, t, N0, alpha, beta, gamma, epsilon, mu):\n",
    "    S, E, I, R, D, N = y\n",
    "    dSdt = mu*N -beta * S * I / N0 - mu*S\n",
    "    dEdt = beta * S * I / N0 - (mu + epsilon) * E\n",
    "    dIdt = epsilon * E - (gamma + mu + alpha) * I\n",
    "    dRdt = gamma * I - mu *R\n",
    "    dDdt = -(dSdt + dEdt + dIdt + dRdt)\n",
    "    dNdt = -dDdt\n",
    "    return dSdt, dEdt, dIdt, dRdt, dDdt, dNdt\n",
    "\n",
    "# plot SEIRD model\n",
    "def plot_SEIRD(t, S, E, I, R, D):\n",
    "    f, ax = plt.subplots(1,1,figsize=(10,7))\n",
    "    ax.plot(t, S, 'b', alpha=0.7, linewidth=2, label='Susceptible')\n",
    "    ax.plot(t, E, 'y', alpha=0.7, linewidth=2, label='Exposed')\n",
    "    ax.plot(t, I, 'r', alpha=0.7, linewidth=2, label='Infected')\n",
    "    ax.plot(t, R, 'g', alpha=0.7, linewidth=2, label='Recovered')\n",
    "    ax.plot(t, D, 'k', alpha=0.7, linewidth=2, label='Dead')\n",
    "    ax.plot(t, S+E+I+R+D, 'c--', alpha=0.7, linewidth=2, label='Total')\n",
    "\n",
    "    ax.set_xlabel('Time (days)')\n",
    "    ax.set_ylabel('Number of people')\n",
    "\n",
    "    ax.yaxis.set_tick_params(length=0)\n",
    "    ax.xaxis.set_tick_params(length=0)\n",
    "    ax.grid(b=True, which='major', c='w', lw=2, ls='-')\n",
    "    legend = ax.legend()\n",
    "    legend.get_frame().set_alpha(0.5)\n",
    "    \n",
    "    plt.show();"
   ]
  },
  {
   "attachments": {},
   "cell_type": "markdown",
   "id": "044e0e85",
   "metadata": {},
   "source": [
    "## Example Simulation and Plot"
   ]
  },
  {
   "cell_type": "code",
   "execution_count": null,
   "id": "62d7a51a",
   "metadata": {
    "ExecuteTime": {
     "end_time": "2022-12-29T11:17:03.190303Z",
     "start_time": "2022-12-29T11:17:03.177801Z"
    }
   },
   "outputs": [],
   "source": [
    "# Set initial and parameter values\n",
    "alpha = 0.002 \n",
    "beta = 0.35 \n",
    "gamma = 1/14\n",
    "epsilon = 1/5\n",
    "mu = 1/100\n",
    "R_0 = (beta*epsilon)/((epsilon+mu)*(gamma + alpha + mu))\n",
    "\n",
    "N0 = 500e3\n",
    "E0, I0, R0, D0 = 100, 1, 0, 0 \n",
    "S0 = N0-E0-I0-R0-D0\n",
    "y0 = S0, E0, I0, R0, D0, N0 # Initial conditions vector\n",
    "\n",
    "# time vector\n",
    "dt = .5\n",
    "tstart = 0\n",
    "tend = 100\n",
    "t = np.arange(tstart, tend, dt) \n",
    "\n",
    "# solve odes\n",
    "sim = odeint(SEIRD_model, y0, t, args=(N0, alpha, beta, gamma, epsilon, mu))\n",
    "S, E, I, R, D, N = sim.T\n",
    "\n",
    "# plot results\n",
    "plot_SEIRD(t, S, E, I, R, D)"
   ]
  }
 ],
 "metadata": {
  "kernelspec": {
   "display_name": "askem",
   "language": "python",
   "name": "python3"
  },
  "language_info": {
   "codemirror_mode": {
    "name": "ipython",
    "version": 3
   },
   "file_extension": ".py",
   "mimetype": "text/x-python",
   "name": "python",
   "nbconvert_exporter": "python",
   "pygments_lexer": "ipython3",
   "version": "3.9.7"
  },
  "toc": {
   "base_numbering": 1,
   "nav_menu": {},
   "number_sections": true,
   "sideBar": true,
   "skip_h1_title": false,
   "title_cell": "Table of Contents",
   "title_sidebar": "Contents",
   "toc_cell": false,
   "toc_position": {},
   "toc_section_display": true,
   "toc_window_display": true
  },
  "varInspector": {
   "cols": {
    "lenName": 16,
    "lenType": 16,
    "lenVar": 40
   },
   "kernels_config": {
    "python": {
     "delete_cmd_postfix": "",
     "delete_cmd_prefix": "del ",
     "library": "var_list.py",
     "varRefreshCmd": "print(var_dic_list())"
    },
    "r": {
     "delete_cmd_postfix": ") ",
     "delete_cmd_prefix": "rm(",
     "library": "var_list.r",
     "varRefreshCmd": "cat(var_dic_list()) "
    }
   },
   "types_to_exclude": [
    "module",
    "function",
    "builtin_function_or_method",
    "instance",
    "_Feature"
   ],
   "window_display": false
  },
  "vscode": {
   "interpreter": {
    "hash": "f70904c00f3e5db7ed77335922286f33ced945fd1de3c4e0e8e3be9be772bce3"
   }
  }
 },
 "nbformat": 4,
 "nbformat_minor": 5
}
